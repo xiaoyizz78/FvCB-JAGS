{
 "cells": [
  {
   "cell_type": "markdown",
   "metadata": {},
   "source": [
    "# Bayesian estimation of photosynthetic parameters in a Farquhar-von Caemmerer-Berry model"
   ]
  },
  {
   "cell_type": "markdown",
   "metadata": {},
   "source": [
    "This note book illustrates how to run Bayesian inference for parameter estimation of a Farquhar-von Caemmerer-Berry (FvCB) model. Bayesian statistics estimate the posterior distribution of model parameters based on 1) input observations, 2) the process model and 3) prior information about each parameter.  \n",
    "1) The **input data** needed for this notebook is concurrent measurements of net photosynthesis ($A_n$) and chlorophyll fluorescence ($Y(II)$) responses to Ci under several light levels  \n",
    "2) The **model** used is the FvCB model for C3 leaf photosynthesis. $A_n$ and $Y(II)$ are function of $C_i$, $I$, $V_{cmax}$, $K_m$, $J$, $\\Gamma^*$, $R_d$, $s$ and $g_m$.  \n",
    "\n",
    "| Variables |  Definition  |  Units  |\n",
    "|  :----:   |  :----:  |  :----:  |\n",
    "|  $A_n$    |  Net photosynthesis rate  |  $\\mu mol m^{-2} s^{-1}$  |\n",
    "|  $Y(II)$  |  Quantum efficiency of absorbed photons by PSII  |  Unitless  |\n",
    "|  $C_i$    |  Intercellular CO<sub>2</sub> partial pressure  |  $\\mu bar$  |\n",
    "|  $C_c$    |  Chloroplastic CO<sub>2</sub> partial pressure  |  $\\mu bar$  |\n",
    "|  $I$      |  Incident irradiance  |  $\\mu mol m^{-2} s^{-1}$  |\n",
    "|  $V_{cmax}$  |  CO<sub>2</sub> saturated Rubisco carboxylation rate  |  $\\mu mol m^{-2} s^{-1}$  |\n",
    "|  $K_m$    |  Michaelis-Menton constant of Rubisco for CO<sub>2</sub> in the presence of O<sub>2</sub>  |  $\\mu bar$  |\n",
    "|  $J$      |  Linear electron transport rate through PSII  |  $\\mu mol m^{-2} s^{-1}$  |\n",
    "|  $R_d$    |  Day respiration <br /> **- alternative name: Resp**  |  $\\mu mol m^{-2} s^{-1}$  |\n",
    "|  $\\Gamma^*$  |  C<sub>c</sub>-based CO<sub>2</sub> compensation point in the presence of *$R_d$* <br /> **- alternative name: Gstar**  |  $\\mu bar$  |\n",
    "|  $\\alpha$ |  Leaf absorptance  |  Unitless  |\n",
    "|  $\\beta$  |  Fraction of photons harvested by PSII on absorbed light basis, it accounts for alternative electron sinks and cyclic electron flow  |  Unitless  |\n",
    "|  $s$      |  Product of $\\alpha$ and $\\beta$; a lumped parameter of light absorption and partition to PSII  |  Unitless  |\n",
    "|  $g_m$    |  Mesophyll conductance  |  $mol m^{-2} s^{-1} bar^{-1}$  |\n",
    "\n",
    "<img src=\"./pic/FvCBmodel.png\" alt=\"Drawing\" style=\"width: 350px;\"/>\n",
    "  \n",
    "  \n",
    "3) Noninformative uniform distribution is used as **prior** to estimate each parameter  \n",
    "  \n",
    "  \n",
    "The Markov chain Monte Carlo (MCMC) method was used to approximate the joint posterior distribution in Bayesian estimation. The MCMC method is implemented in the software package JAGS (Just Another Gibbs Sampler). The rationale of the MCMC method is to construct a series of sampling points in the parameter space, each sampling point is an array of possible values for estimated parameters. A Markov chain is constructed so that probabilities of the next sampling point is dependent on the current sampling point.\n",
    "\n",
    "After loading the input data, this notebook will\n",
    "- plot raw A<sub>n</sub>-C<sub>i</sub> and Y(II)-C<sub>i</sub> curves under different light levels for all replications and each replication\n",
    "- run Bayesian estimation with data of all replications and with data of each replication\n",
    "- print the summary of Bayesian estimation of each scenario and plot the traceplot of Markov chains generated\n",
    "- plot the marginal distribution for each estimated parameters\n",
    "- plot predicted A<sub>n</sub>-C<sub>i</sub> and Y(II)-C<sub>i</sub> curves based on the joint posterior distribution together with raw data\n",
    "\n",
    "User configurations to the data loading and Bayesian estimation are located at the beginning of Step 1 and Step 2. User should be careful modifying the remaining values or codes.\n",
    "  \n",
    "<img src=\"./pic/pipeline.png\" alt=\"Drawing\" style=\"width: 600px;\"/>"
   ]
  },
  {
   "cell_type": "markdown",
   "metadata": {},
   "source": [
    "# Step 0. Load library"
   ]
  },
  {
   "cell_type": "code",
   "execution_count": 1,
   "metadata": {},
   "outputs": [
    {
     "name": "stderr",
     "output_type": "stream",
     "text": [
      "Loading required package: coda\n",
      "\n",
      "Loading required package: R2jags\n",
      "\n",
      "Loading required package: rjags\n",
      "\n",
      "Warning message:\n",
      "\"package 'rjags' was built under R version 3.6.3\"\n",
      "Linked to JAGS 4.3.0\n",
      "\n",
      "Loaded modules: basemod,bugs\n",
      "\n",
      "\n",
      "Attaching package: 'R2jags'\n",
      "\n",
      "\n",
      "The following object is masked from 'package:coda':\n",
      "\n",
      "    traceplot\n",
      "\n",
      "\n",
      "Loading required package: lattice\n",
      "\n",
      "Warning message:\n",
      "\"package 'lattice' was built under R version 3.6.3\"\n",
      "Loading required package: viridis\n",
      "\n",
      "Loading required package: viridisLite\n",
      "\n",
      "Loading required package: MASS\n",
      "\n",
      "Warning message:\n",
      "\"package 'MASS' was built under R version 3.6.3\"\n"
     ]
    }
   ],
   "source": [
    "source('src/FunJAGSFvCB.R')\n",
    "if (!require(\"coda\")) {\n",
    "    install.packages(\"coda\")\n",
    "    library(coda)\n",
    "}\n",
    "if (!require(\"R2jags\")) {\n",
    "    install.packages(\"R2jags\")\n",
    "    library(R2jags)\n",
    "}\n",
    "if (!require(\"lattice\")) {\n",
    "    install.packages(\"lattice\")\n",
    "    library(lattice)\n",
    "}\n",
    "if (!require(\"viridis\")) {\n",
    "    install.packages(\"viridis\")\n",
    "    library(viridis)\n",
    "}\n",
    "if (!require(\"MASS\")) {\n",
    "    install.packages(\"MASS\")\n",
    "    library(MASS)\n",
    "}\n",
    "library(RColorBrewer)"
   ]
  },
  {
   "cell_type": "markdown",
   "metadata": {},
   "source": [
    "# Step 1. Data preparation"
   ]
  },
  {
   "cell_type": "markdown",
   "metadata": {},
   "source": [
    "## 1.1 Load data\n",
    "Input data of this notebook put all replications in one csv file. Examples are attached in folder \"./data/\". File expdata0827.csv is experimental data measured on rice leaf, while file syntheticdata0827.csv is synthetic data used in the paper.  \n",
    "\n",
    "|  |  | Data template |  |  |  |\n",
    "|--|--|--|--|--|--|\n",
    "| |pt 1 |pt 2 | ... |pt n | ... |\n",
    "|Ci(umol) |210.3983568|149.5699932| ... | 69.63632347 | ... |\n",
    "|PPFD | 2000 |  2000  | ... | 300 | ... |\n",
    "|An | 30.03328991  | 20.4148358 | ... | 1.032585153 | ... |\n",
    "|PhiPSII | 0.300192382  | 0.268226101 | ... | 0.519451473 | ... |\n",
    "|Ci(umol) | ... | ... | ... | ... | ... |\n",
    "|PPFD | ... | ... | ... | ... | ... |\n",
    "|An | ... | ... | ... | ... | ... |\n",
    "|PhiPSII | ... | ... | ... | ... | ... |\n",
    "|... | ... | ... | ... | ... | ... |\n",
    "\n",
    "\n",
    "First row must be Ci in $\\mu mol$ of replication No.1, second row must be PPFD of replication No.1, third row is An of replication No.1, while fourth row is Y(II) of replication No.1. Measurements taken under different light levels of one replication are put into a same row. Then repeat this for other replications."
   ]
  },
  {
   "cell_type": "code",
   "execution_count": 2,
   "metadata": {},
   "outputs": [
    {
     "name": "stderr",
     "output_type": "stream",
     "text": [
      "Warning message in dir.create(file.path(BayesOPTFolder, OPTFolderName)):\n",
      "\"'D:\\PICB\\2010plantsys\\Projects\\Bayesian FvCB\\Manuscript V1\\r_FvCB_JAGS\\JAGSFvCB_master\\output\\output_exp0827' already exists\"\n",
      "Warning message in dir.create(file.path(BayesOPTFolder, OPTFolderName, \"allreps\")):\n",
      "\"'D:\\PICB\\2010plantsys\\Projects\\Bayesian FvCB\\Manuscript V1\\r_FvCB_JAGS\\JAGSFvCB_master\\output\\output_exp0827\\allreps' already exists\"\n",
      "Warning message in dir.create(file.path(BayesOPTFolder, OPTFolderName, tmpstr)):\n",
      "\"'D:\\PICB\\2010plantsys\\Projects\\Bayesian FvCB\\Manuscript V1\\r_FvCB_JAGS\\JAGSFvCB_master\\output\\output_exp0827\\rep1' already exists\"\n",
      "Warning message in dir.create(file.path(BayesOPTFolder, OPTFolderName, tmpstr)):\n",
      "\"'D:\\PICB\\2010plantsys\\Projects\\Bayesian FvCB\\Manuscript V1\\r_FvCB_JAGS\\JAGSFvCB_master\\output\\output_exp0827\\rep2' already exists\"\n",
      "Warning message in dir.create(file.path(BayesOPTFolder, OPTFolderName, tmpstr)):\n",
      "\"'D:\\PICB\\2010plantsys\\Projects\\Bayesian FvCB\\Manuscript V1\\r_FvCB_JAGS\\JAGSFvCB_master\\output\\output_exp0827\\rep3' already exists\"\n",
      "Warning message in dir.create(file.path(BayesOPTFolder, OPTFolderName, tmpstr)):\n",
      "\"'D:\\PICB\\2010plantsys\\Projects\\Bayesian FvCB\\Manuscript V1\\r_FvCB_JAGS\\JAGSFvCB_master\\output\\output_exp0827\\rep4' already exists\"\n",
      "Warning message in dir.create(file.path(BayesOPTFolder, OPTFolderName, tmpstr)):\n",
      "\"'D:\\PICB\\2010plantsys\\Projects\\Bayesian FvCB\\Manuscript V1\\r_FvCB_JAGS\\JAGSFvCB_master\\output\\output_exp0827\\rep5' already exists\"\n"
     ]
    }
   ],
   "source": [
    "##############################\n",
    "#  USER CONFIGURATION [1/3]  #\n",
    "##############################\n",
    "\n",
    "# Input file path #\n",
    "filepath <- \"./data/expdata0827.csv\"\n",
    "\n",
    "# Number of replications #\n",
    "NumRep <- 4\n",
    "\n",
    "# Output file path; store figures #\n",
    "BayesOPTFolder <- file.path(getwd(), \"output\") # default output folder of the program; NO NEED to change\n",
    "OPTFolderName <- \"output_exp0827\" # name of subfolder to save results of this time\n",
    "dir.create(file.path(BayesOPTFolder,OPTFolderName))\n",
    "## Create subfolders for allreps and each rep\n",
    "if (NumRep!=1) {\n",
    "    dir.create(file.path(BayesOPTFolder,OPTFolderName,\"allreps\"))\n",
    "}\n",
    "for (looprep in seq(NumRep)) {\n",
    "    tmpstr=paste(\"rep\", looprep, sep=\"\")\n",
    "    dir.create(file.path(BayesOPTFolder,OPTFolderName,tmpstr))\n",
    "}"
   ]
  },
  {
   "cell_type": "code",
   "execution_count": 3,
   "metadata": {},
   "outputs": [
    {
     "name": "stdout",
     "output_type": "stream",
     "text": [
      "Detect 4 light levels.\n",
      "J[1] corresponds to 2000 PPFD\n",
      "J[2] corresponds to 300 PPFD\n",
      "J[3] corresponds to 200 PPFD\n",
      "J[4] corresponds to 100 PPFD\n"
     ]
    }
   ],
   "source": [
    "# load csv file of input data\n",
    "FLAG_yii <- TRUE # [to dev] compatible with different obs data\n",
    "RowInterval <- ifelse(FLAG_yii, 4, 3)\n",
    "tmp_ObsAll <- read.csv(file = filepath, header = TRUE, sep=',')\n",
    "ObsAll <- tmp_ObsAll[,2:length(tmp_ObsAll)]\n",
    "RowIdx4Ci <- seq(1, by = RowInterval, length.out = NumRep)\n",
    "RowIdx4Q <- seq(2, by = RowInterval, length.out = NumRep)\n",
    "RowIdx4A <- seq(3, by = RowInterval, length.out = NumRep)\n",
    "if (FLAG_yii == TRUE) {\n",
    "    RowIdx4yii <- seq(4, by = RowInterval, length.out = NumRep)\n",
    "}\n",
    "Obs.Ci <- ObsAll[RowIdx4Ci, ]\n",
    "Obs.Q <- ObsAll[RowIdx4Q, ]# [to dev] test input format of Q for unique() below\n",
    "Obs.A <- ObsAll[RowIdx4A, ]\n",
    "Obs.yii <- ObsAll[RowIdx4yii, ]\n",
    "# Output detected light levels in data\n",
    "PPFDdetected <- unique(na.omit(unlist(Obs.Q)))\n",
    "cat(paste0(\"Detect \", length(PPFDdetected),\" light levels.\\n\"))\n",
    "for (tmploop in seq(length(PPFDdetected))) {\n",
    "    cat(paste0(\"J[\", tmploop,\"] corresponds to \",PPFDdetected[tmploop],\" PPFD\\n\"))\n",
    "}"
   ]
  },
  {
   "cell_type": "markdown",
   "metadata": {},
   "source": [
    "## 1.2 Raw data illustration"
   ]
  },
  {
   "cell_type": "markdown",
   "metadata": {},
   "source": [
    "### 1.2.1 Plot all replications"
   ]
  },
  {
   "cell_type": "code",
   "execution_count": 4,
   "metadata": {},
   "outputs": [
    {
     "data": {
      "image/png": "[encoded data removed]",
      "text/plain": [
       "Plot with title \"All replications\""
      ]
     },
     "metadata": {
      "image/png": {
       "height": 480,
       "width": 480
      },
      "text/plain": {
       "height": 480,
       "width": 480
      }
     },
     "output_type": "display_data"
    }
   ],
   "source": [
    "# if there is only one replication, this step is skipped.\n",
    "if (NumRep!=1) {\n",
    "## plot all replications together\n",
    "options(repr.plot.width = 8, repr.plot.height = 8)\n",
    "par(mfrow=c(2,2))\n",
    "cmap1 <- brewer.pal(NumRep,\"Set1\")\n",
    "#A-Ci under saturating light\n",
    "par(mar=c(4,4,4,1))\n",
    "tmpxrange <- range(unlist(Obs.Ci)[which(Obs.Q==max(PPFDdetected))]) \n",
    "tmpyrange <- range(unlist(Obs.A)[which(Obs.Q==max(PPFDdetected))])\n",
    "for (looprep2plot in seq(NumRep)) {\n",
    "    selrep2plot=looprep2plot\n",
    "    tmpCi=na.omit(unlist(Obs.Ci[selrep2plot,]))#compatible to replications with different pts\n",
    "    tmpQ=na.omit(unlist(Obs.Q[selrep2plot,]))\n",
    "    tmpA=na.omit(unlist(Obs.A[selrep2plot,]))\n",
    "    tmpyii=na.omit(unlist(Obs.yii[selrep2plot,]))\n",
    "    tmpidx1=which(tmpQ==max(PPFDdetected))\n",
    "    if (looprep2plot==1) {\n",
    "        plot(tmpCi[tmpidx1], tmpA[tmpidx1], xlab=\"Ci\", ylab=\"An\",pch=1,\n",
    "             xlim=tmpxrange, ylim=tmpyrange, col=cmap1[looprep2plot],las=1)\n",
    "    } else {\n",
    "        points(tmpCi[tmpidx1], tmpA[tmpidx1], xlab=\"Ci\", ylab=\"An\",pch=1,\n",
    "               col=cmap1[looprep2plot],las=1)\n",
    "    }\n",
    "}\n",
    "legend(\"topleft\",legend = paste(\"rep.\", seq(NumRep), sep=\"\"), \n",
    "       col=c(cmap1), bty=\"n\", pch=1,\n",
    "       y.intersp=1, yjust=1)\n",
    "#Y(II)-Ci under saturating light\n",
    "par(mar=c(4,4,4,1))\n",
    "tmpxrange <- range(unlist(Obs.Ci)[which(Obs.Q==max(PPFDdetected))]) \n",
    "tmpyrange <- range(unlist(Obs.yii)[which(Obs.Q==max(PPFDdetected))])\n",
    "for (looprep2plot in seq(NumRep)) {\n",
    "    selrep2plot=looprep2plot\n",
    "    tmpCi=na.omit(unlist(Obs.Ci[selrep2plot,]))#compatible to replications with different pts\n",
    "    tmpQ=na.omit(unlist(Obs.Q[selrep2plot,]))\n",
    "    tmpA=na.omit(unlist(Obs.A[selrep2plot,]))\n",
    "    tmpyii=na.omit(unlist(Obs.yii[selrep2plot,]))\n",
    "    tmpidx1=which(tmpQ==max(PPFDdetected))\n",
    "    if (looprep2plot==1) {\n",
    "        plot(tmpCi[tmpidx1], tmpyii[tmpidx1], xlab=\"Ci\", ylab=\"Y(II)\",pch=1,\n",
    "             xlim=tmpxrange, ylim=tmpyrange, col=cmap1[looprep2plot],las=1)\n",
    "    } else {\n",
    "        points(tmpCi[tmpidx1], tmpyii[tmpidx1], xlab=\"Ci\", ylab=\"Y(II)\",pch=1,\n",
    "               col=cmap1[looprep2plot],las=1)\n",
    "    }\n",
    "}\n",
    "#A-Ci under low light\n",
    "par(mar=c(7,4,1,1))\n",
    "tmpxrange <- range(unlist(Obs.Ci)[which(Obs.Q!=max(PPFDdetected))])#NA will not be included\n",
    "tmpyrange <- range(unlist(Obs.A)[which(Obs.Q!=max(PPFDdetected))])\n",
    "for (looprep2plot in seq(NumRep)) {\n",
    "    selrep2plot=looprep2plot\n",
    "    tmpCi=na.omit(unlist(Obs.Ci[selrep2plot,]))#compatible to replications with different pts\n",
    "    tmpQ=na.omit(unlist(Obs.Q[selrep2plot,]))\n",
    "    tmpA=na.omit(unlist(Obs.A[selrep2plot,]))\n",
    "    tmpyii=na.omit(unlist(Obs.yii[selrep2plot,]))\n",
    "    tmpidx2=which(tmpQ!=max(PPFDdetected))\n",
    "    for (tmploop in seq(length(PPFDdetected)-1)) {\n",
    "        tmplowlight=PPFDdetected[setdiff(seq_along(PPFDdetected),which.max(PPFDdetected))[tmploop]]\n",
    "        tmpidx2=which(tmpQ==tmplowlight)\n",
    "        if (looprep2plot==1 && tmploop==1) {\n",
    "            plot(tmpCi[tmpidx2], tmpA[tmpidx2], xlab=\"Ci\", ylab=\"An\",pch=tmploop+1,\n",
    "                 xlim=tmpxrange, ylim=tmpyrange, col=cmap1[looprep2plot],las=1)\n",
    "        } else {\n",
    "            points(tmpCi[tmpidx2], tmpA[tmpidx2], xlab=\"Ci\", ylab=\"An\",pch=tmploop+1,\n",
    "                   col=cmap1[looprep2plot],las=1)\n",
    "        }\n",
    "    }\n",
    "}\n",
    "legend(\"topleft\",legend = paste(\"PPFD \", PPFDdetected[setdiff(seq_along(PPFDdetected),which.max(PPFDdetected))],sep=\"\"), \n",
    "       bty=\"n\", pch=seq(2,length(PPFDdetected)),\n",
    "       y.intersp=1, yjust=1)\n",
    "#Y(II)-Ci under low light\n",
    "par(mar=c(7,4,1,1))\n",
    "tmpxrange <- range(unlist(Obs.Ci)[which(Obs.Q!=max(PPFDdetected))])#NA will not be included\n",
    "tmpyrange <- range(unlist(Obs.yii)[which(Obs.Q!=max(PPFDdetected))])\n",
    "for (looprep2plot in seq(NumRep)) {\n",
    "    selrep2plot=looprep2plot\n",
    "    tmpCi=na.omit(unlist(Obs.Ci[selrep2plot,]))#compatible to replications with different pts\n",
    "    tmpQ=na.omit(unlist(Obs.Q[selrep2plot,]))\n",
    "    tmpA=na.omit(unlist(Obs.A[selrep2plot,]))\n",
    "    tmpyii=na.omit(unlist(Obs.yii[selrep2plot,]))\n",
    "    tmpidx2=which(tmpQ!=max(PPFDdetected))\n",
    "    for (tmploop in seq(length(PPFDdetected)-1)) {\n",
    "        tmplowlight=PPFDdetected[setdiff(seq_along(PPFDdetected),which.max(PPFDdetected))[tmploop]]\n",
    "        tmpidx2=which(tmpQ==tmplowlight)\n",
    "        if (looprep2plot==1 && tmploop==1) {\n",
    "            plot(tmpCi[tmpidx2], tmpyii[tmpidx2], xlab=\"Ci\", ylab=\"Y(II)\",pch=tmploop+1,\n",
    "                 xlim=tmpxrange, ylim=tmpyrange, col=cmap1[looprep2plot],las=1)\n",
    "        } else {\n",
    "            points(tmpCi[tmpidx2], tmpyii[tmpidx2], xlab=\"Ci\", ylab=\"Y(II)\",pch=tmploop+1,\n",
    "                   col=cmap1[looprep2plot],las=1)\n",
    "        }\n",
    "    }\n",
    "}\n",
    "title(\"All replications\", outer=TRUE, line=-2)\n",
    "## save plot\n",
    "tmpdisp <- dev.copy(pdf, file.path(BayesOPTFolder,OPTFolderName,\"allreps\",\"s1.2-raw curves-allreps.pdf\"))\n",
    "tmpdisp <- dev.off()\n",
    "}"
   ]
  },
  {
   "cell_type": "markdown",
   "metadata": {},
   "source": [
    "### 1.2.2 Plot each replication"
   ]
  },
  {
   "cell_type": "code",
   "execution_count": 5,
   "metadata": {
    "scrolled": false
   },
   "outputs": [
    {
     "data": {
      "image/png": "[encoded data removed]",
      "text/plain": [
       "Plot with title \"Replication No. 1\""
      ]
     },
     "metadata": {
      "image/png": {
       "height": 480,
       "width": 480
      },
      "text/plain": {
       "height": 480,
       "width": 480
      }
     },
     "output_type": "display_data"
    },
    {
     "data": {
      "image/png": "[encoded data removed]",
      "text/plain": [
       "Plot with title \"Replication No. 2\""
      ]
     },
     "metadata": {
      "image/png": {
       "height": 480,
       "width": 480
      },
      "text/plain": {
       "height": 480,
       "width": 480
      }
     },
     "output_type": "display_data"
    },
    {
     "name": "stderr",
     "output_type": "stream",
     "text": [
      "Warning message in min(x):\n",
      "\"no non-missing arguments to min; returning Inf\"\n",
      "Warning message in max(x):\n",
      "\"no non-missing arguments to max; returning -Inf\"\n",
      "Warning message in min(x):\n",
      "\"no non-missing arguments to min; returning Inf\"\n",
      "Warning message in max(x):\n",
      "\"no non-missing arguments to max; returning -Inf\"\n"
     ]
    },
    {
     "data": {
      "image/png": "[encoded data removed]",
      "text/plain": [
       "Plot with title \"Replication No. 3\""
      ]
     },
     "metadata": {
      "image/png": {
       "height": 480,
       "width": 480
      },
      "text/plain": {
       "height": 480,
       "width": 480
      }
     },
     "output_type": "display_data"
    },
    {
     "ename": "ERROR",
     "evalue": "Error in plot.window(...): need finite 'xlim' values\n",
     "output_type": "error",
     "traceback": [
      "Error in plot.window(...): need finite 'xlim' values\nTraceback:\n",
      "1. plot(tmpCi[tmpidx1], tmpA[tmpidx1], xlab = \"Ci\", ylab = \"An\", \n .     las = 1)",
      "2. plot.default(tmpCi[tmpidx1], tmpA[tmpidx1], xlab = \"Ci\", ylab = \"An\", \n .     las = 1)",
      "3. localWindow(xlim, ylim, log, asp, ...)",
      "4. plot.window(...)"
     ]
    },
    {
     "data": {
      "image/png": "[encoded data removed]",
      "text/plain": [
       "Plot with title \"Replication No. 4\""
      ]
     },
     "metadata": {
      "image/png": {
       "height": 480,
       "width": 480
      },
      "text/plain": {
       "height": 480,
       "width": 480
      }
     },
     "output_type": "display_data"
    },
    {
     "data": {
      "image/png": "[encoded data removed]",
      "text/plain": [
       "plot without title"
      ]
     },
     "metadata": {
      "image/png": {
       "height": 480,
       "width": 480
      },
      "text/plain": {
       "height": 480,
       "width": 480
      }
     },
     "output_type": "display_data"
    }
   ],
   "source": [
    "## plot each replication\n",
    "for (looprep2plot in seq(NumRep)) {\n",
    "    selrep2plot=looprep2plot\n",
    "    options(repr.plot.width = 8, repr.plot.height = 8)\n",
    "    par(mfrow=c(2,2))\n",
    "    tmpCi=na.omit(unlist(Obs.Ci[selrep2plot,]))#compatible to replications with different pts\n",
    "    tmpQ=na.omit(unlist(Obs.Q[selrep2plot,]))\n",
    "    tmpA=na.omit(unlist(Obs.A[selrep2plot,]))\n",
    "    tmpyii=na.omit(unlist(Obs.yii[selrep2plot,]))\n",
    "    # identify data under saturating irradiance and plot\n",
    "    par(mar=c(4,4,4,1))\n",
    "    tmpidx1=which(tmpQ==max(PPFDdetected))\n",
    "    plot(tmpCi[tmpidx1],tmpA[tmpidx1],xlab=\"Ci\",ylab=\"An\",las=1)\n",
    "    legend('topleft', legend = paste(\"rep.\", selrep2plot, \": PPFD \",max(PPFDdetected), sep=\"\"), \n",
    "           col=\"black\", bty=\"n\", box.lty=0, pch=1, yjust=1)\n",
    "    par(mar=c(4,4,4,1))\n",
    "    plot(tmpCi[tmpidx1],tmpyii[tmpidx1],xlab=\"Ci\",ylab=\"Y(II)\",las=1)\n",
    "    # identify data under low light and plot\n",
    "    par(mar=c(7,4,1,1))\n",
    "    idxlowlights=which(tmpQ!=max(PPFDdetected))\n",
    "    cmap2 <- rainbow(length(PPFDdetected)-1)\n",
    "    for (tmploop in seq(length(PPFDdetected)-1)) {\n",
    "        tmplowlight=PPFDdetected[setdiff(seq_along(PPFDdetected),which.max(PPFDdetected))[tmploop]]\n",
    "        tmpidx2=which(tmpQ==tmplowlight)\n",
    "        if (tmploop==1) {\n",
    "            plot(tmpCi[tmpidx2], tmpA[tmpidx2], xlab=\"Ci\", ylab=\"An\",pch=tmploop+1,\n",
    "                 ylim=range(tmpA[idxlowlights]), col=cmap2[tmploop],las=1)\n",
    "        } else {\n",
    "            points(tmpCi[tmpidx2], tmpA[tmpidx2], xlab=\"Ci\", ylab=\"An\",pch=tmploop+1,\n",
    "                   col=cmap2[tmploop],las=1)\n",
    "        }\n",
    "    }\n",
    "    legend(\"topleft\",legend = paste(\"rep.\", selrep2plot, \": PPFD \",PPFDdetected[setdiff(seq_along(PPFDdetected),which.max(PPFDdetected))], sep=\"\"), \n",
    "           col=c(cmap2), bty=\"n\", box.lty=0, pch=seq(length(PPFDdetected)-1)+1,\n",
    "           y.intersp=1, yjust=1)\n",
    "    par(mar=c(7,4,1,1))\n",
    "    for (tmploop in seq(length(PPFDdetected)-1)) {\n",
    "        tmplowlight=PPFDdetected[setdiff(seq_along(PPFDdetected),which.max(PPFDdetected))[tmploop]]\n",
    "        tmpidx2=which(tmpQ==tmplowlight)\n",
    "        if (tmploop==1) {\n",
    "            plot(tmpCi[tmpidx2], tmpyii[tmpidx2], xlab=\"Ci\", ylab=\"Y(II)\",pch=tmploop+1,\n",
    "                 ylim=range(tmpyii[idxlowlights]), col=cmap2[tmploop],las=1)\n",
    "        } else {\n",
    "            points(tmpCi[tmpidx2], tmpyii[tmpidx2], xlab=\"Ci\", ylab=\"Y(II)\",pch=tmploop+1,\n",
    "                   col=cmap2[tmploop],las=1)\n",
    "        }\n",
    "    }\n",
    "    title(paste(\"Replication No.\",looprep2plot), outer=TRUE, line=-2)\n",
    "    \n",
    "    ## save plot\n",
    "    tmpfilename <- paste(\"s1.2-raw curves-rep\",looprep2plot,\".pdf\", sep=\"\")\n",
    "    tmpstr=paste(\"rep\", looprep2plot, sep=\"\")\n",
    "    tmpdisp <- dev.copy(pdf, file.path(BayesOPTFolder,OPTFolderName,tmpstr,tmpfilename))\n",
    "    tmpdisp <- dev.off()\n",
    "}"
   ]
  },
  {
   "cell_type": "markdown",
   "metadata": {},
   "source": [
    "# Step 2. Configure Bayesian estimation and run"
   ]
  },
  {
   "cell_type": "markdown",
   "metadata": {},
   "source": [
    "## 2.1 Configure prefixed parameters"
   ]
  },
  {
   "cell_type": "code",
   "execution_count": null,
   "metadata": {},
   "outputs": [],
   "source": [
    "##############################\n",
    "#  USER CONFIGURATION [2/3]  #\n",
    "##############################\n",
    "\n",
    "# Prefixed Km during Bayesian estimation #\n",
    "fixedpar <- list(Km=428)\n",
    "# fixedpar <- list(Km=535.3270) # this is true value of Km for synthetic data \"./data/syntheticdata0827.csv\"\n",
    "\n",
    "# Typical Km values for several species at 210 mbar O2 (von Caemmerer 2000)\n",
    "# Oryza Sativa: 428 ubar\n",
    "# Nicotiana tabacum: 468 ubar\n",
    "# Spinach: 712 ubar"
   ]
  },
  {
   "cell_type": "markdown",
   "metadata": {},
   "source": [
    "## 2.2 Configure JAGS"
   ]
  },
  {
   "cell_type": "code",
   "execution_count": null,
   "metadata": {},
   "outputs": [],
   "source": [
    "##############################\n",
    "#  USER CONFIGURATION [3/3]  #\n",
    "##############################\n",
    "JAGS.ini <- list(CFG.nchain=3, CFG.nburnin=10000, CFG.niter=20000, CFG.nthin=1)\n",
    "# CFG.nchain: number of Markov chains for JAGS\n",
    "# CFG.nburnin: length of burn in, i.e. number of iterations to discard at the beginning of MCMC.\n",
    "# CFG.niter: number of total iterations per chain including burn in.\n",
    "# CFG.nthin: thinning rate of recorded sampling of a Markov chain.\n",
    "# these parameters are passed to R function jags.parallel in R package R2jags."
   ]
  },
  {
   "cell_type": "markdown",
   "metadata": {},
   "source": [
    "## 2.3 Run JAGS\n",
    "Bayesian estimation with data of all replications and each replication."
   ]
  },
  {
   "cell_type": "code",
   "execution_count": null,
   "metadata": {},
   "outputs": [],
   "source": [
    "# run JAGS with each replication as observation of Bayesian parameter estimation\n",
    "SaveJAGSOneRep <- list()\n",
    "for (looprep4jags in seq(NumRep)) {\n",
    "    timestart <- Sys.time()\n",
    "    tmpCi=na.omit(unlist(Obs.Ci[looprep4jags,]))#compatible to replications with different pts\n",
    "    tmpQ=na.omit(unlist(Obs.Q[looprep4jags,]))\n",
    "    tmpA=na.omit(unlist(Obs.A[looprep4jags,]))\n",
    "    tmpyii=na.omit(unlist(Obs.yii[looprep4jags,]))\n",
    "    tmpjagsfit.p <- FunJAGSFvCBgm(tmpCi, tmpQ, tmpA, tmpyii, PPFDdetected, fixedpar, JAGS.ini)\n",
    "    timeend <- Sys.time()\n",
    "    runningtime <- timeend - timestart\n",
    "    cat(paste(\"JAGS with replication No.\", looprep4jags, \" done: \", runningtime, \" secs\\n\"), sep=\"\")\n",
    "    SaveJAGSOneRep[[looprep4jags]] <- tmpjagsfit.p\n",
    "}\n",
    "# run JAGS with all replications as observation of Bayesian parameter estimation\n",
    "if (NumRep!=1) {\n",
    "    timestart <- Sys.time()\n",
    "    tmpCi=na.omit(unlist(Obs.Ci))#compatible to replications with different total number of measured points\n",
    "    tmpQ=na.omit(unlist(Obs.Q))\n",
    "    tmpA=na.omit(unlist(Obs.A))\n",
    "    tmpyii=na.omit(unlist(Obs.yii))\n",
    "    SaveJAGSAllReps <- FunJAGSFvCBgm(tmpCi, tmpQ, tmpA, tmpyii, PPFDdetected, fixedpar, JAGS.ini)\n",
    "    timeend <- Sys.time()\n",
    "    runningtime <- timeend - timestart\n",
    "    cat(paste(\"JAGS with all replications done: \", runningtime, \" secs\\n\"), sep=\"\")\n",
    "}"
   ]
  },
  {
   "cell_type": "markdown",
   "metadata": {},
   "source": [
    "## 2.4 Check convergence"
   ]
  },
  {
   "cell_type": "code",
   "execution_count": null,
   "metadata": {
    "scrolled": false
   },
   "outputs": [],
   "source": [
    "# Print summary of JAGS results\n",
    "# mean value, standard deviation and different quantiles are shown\n",
    "# Any Rhat>1.1 means Bayesian estimation is not converged yet\n",
    "tmp_filename=file.path(BayesOPTFolder,OPTFolderName,\"s2.4-summary JAGS results.csv\")\n",
    "if (NumRep!=1) {\n",
    "    cat(\"***********************************************\\n\")\n",
    "    cat(paste(\"Summary of JAGS with all replications\\n\"))\n",
    "    cat(\"***********************************************\\n\")\n",
    "    print(SaveJAGSAllReps)\n",
    "    cat(\"\\n\\n\\n\\n\")\n",
    "    \n",
    "    # write summary to csv file\n",
    "    write.table(\"Summary of JAGS with all replications\", file=tmp_filename, row.names=FALSE, col.names=FALSE)\n",
    "    tmptable=SaveJAGSAllReps$BUGSoutput$summary[1:10,]\n",
    "    write.table(tmptable, file=tmp_filename, sep=\",\", col.names=NA, append=TRUE)\n",
    "    cat(\"\\n\", file=tmp_filename, append=TRUE)\n",
    "}\n",
    "for (looprep4jags in seq(NumRep)) {\n",
    "    cat(\"***********************************************\\n\")\n",
    "    cat(paste(\"Summary of JAGS with replication No.\", looprep4jags, \"\\n\"))\n",
    "    cat(\"***********************************************\\n\")\n",
    "    print(SaveJAGSOneRep[[looprep4jags]])\n",
    "    cat(\"\\n\\n\\n\\n\")\n",
    "    \n",
    "    # write summary to csv file\n",
    "    tmpstr=paste(\"Summary of JAGS with replication No.\", looprep4jags, sep=\"\")\n",
    "    if (NumRep==1) {\n",
    "        write.table(tmpstr, file=tmp_filename, row.names=FALSE, col.names=FALSE)\n",
    "    } else {\n",
    "        write.table(tmpstr, file=tmp_filename, row.names=FALSE, col.names=FALSE, append=TRUE)\n",
    "    }\n",
    "    tmptable=SaveJAGSOneRep[[looprep4jags]]$BUGSoutput$summary[1:10,]\n",
    "    write.table(tmptable, file=tmp_filename, sep=\",\", col.names=NA, append=TRUE)\n",
    "    cat(\"\\n\", file=tmp_filename, append=TRUE)\n",
    "}"
   ]
  },
  {
   "cell_type": "code",
   "execution_count": null,
   "metadata": {
    "scrolled": false
   },
   "outputs": [],
   "source": [
    "# plot the Monte-Carlo-Markov-Chain of approximated posterior distributions\n",
    "if (NumRep!=1) {\n",
    "    #plot.new()\n",
    "    options(repr.plot.width=10, repr.plot.height=10)\n",
    "    traceplot(SaveJAGSAllReps, mfrow=c(3,3), varname = c('Vcmax','J','Resp','rm','s','Gstar'))\n",
    "    mtext(paste(\"Traceplot of JAGS with all replications\\n\"), side = 3, line = -3, outer=TRUE)\n",
    "    ## save plot\n",
    "    tmpdisp <- dev.copy(pdf, file.path(BayesOPTFolder,OPTFolderName,\"allreps\",\"s2.4-traceplot-allrep.pdf\"))\n",
    "    tmpdisp <- dev.off()\n",
    "}\n",
    "for (looprep4jags in seq(NumRep)) {\n",
    "    #plot.new()\n",
    "    options(repr.plot.width=10, repr.plot.height=10)\n",
    "    traceplot(SaveJAGSOneRep[[looprep4jags]], mfrow=c(3,3), varname = c('Vcmax','J','Resp','rm','s','Gstar'))\n",
    "    mtext(paste(\"Traceplot of JAGS with replication No.\", looprep4jags, \"\\n\"), side = 3, line = -3, outer=TRUE)\n",
    "    ## save plot\n",
    "    tmpfilename <- paste(\"s2.4-traceplot-rep\",looprep4jags,\".pdf\", sep=\"\")\n",
    "    tmpstr=paste(\"rep\", looprep4jags, sep=\"\")\n",
    "    tmpdisp <- dev.copy(pdf, file.path(BayesOPTFolder,OPTFolderName,tmpstr,tmpfilename))\n",
    "    tmpdisp <- dev.off()\n",
    "}"
   ]
  },
  {
   "cell_type": "markdown",
   "metadata": {},
   "source": [
    "# Step 3. Plot posterior distribution and save results"
   ]
  },
  {
   "cell_type": "markdown",
   "metadata": {},
   "source": [
    "## 3.1 Plot marginal posterior distribution of each estimated parameter"
   ]
  },
  {
   "cell_type": "code",
   "execution_count": null,
   "metadata": {
    "scrolled": false
   },
   "outputs": [],
   "source": [
    "#jagsfit.mcmc <- as.mcmc(jagsfit.p)\n",
    "#densityplot(jagsfit.mcmc) #xyplot(jagsfit.mcmc) # same as traceplot\n",
    "cmap3=brewer.pal(NumRep,\"Set1\")\n",
    "#par(mfrow=c(3,3))\n",
    "#options(repr.plot.width=10, repr.plot.height=10)\n",
    "layout(matrix(c(seq(9),rep(10,3)),4,3,byrow = TRUE), rep(3,3), c(rep(3,3),1))\n",
    "\n",
    "varname2plot <- c('Vcmax','J','Resp','rm','s','Gstar')\n",
    "for (tmpvar in varname2plot) {\n",
    "    if (tmpvar != 'J') {\n",
    "        tmpidx <- which(tmpvar == names(SaveJAGSAllReps$BUGSoutput$sims.list))\n",
    "        #detect tmpxrange and tmpyrange for plot\n",
    "        tmpxrange <- range(density(as.vector(SaveJAGSAllReps$BUGSoutput$sims.list[[tmpidx]]))$x)\n",
    "        tmpyrange <- range(density(as.vector(SaveJAGSAllReps$BUGSoutput$sims.list[[tmpidx]]))$y)\n",
    "        for (looprep4jags in seq(NumRep)) {\n",
    "            tmpxrange2 <- range(density(as.vector(SaveJAGSOneRep[[looprep4jags]]$BUGSoutput$sims.list[[tmpidx]]))$x)\n",
    "            tmpyrange2 <- range(density(as.vector(SaveJAGSOneRep[[looprep4jags]]$BUGSoutput$sims.list[[tmpidx]]))$y)\n",
    "            #update range\n",
    "            tmpxrange <- range(c(tmpxrange,tmpxrange2))\n",
    "            tmpyrange <- range(c(tmpyrange,tmpyrange2))\n",
    "        }\n",
    "        #density plot\n",
    "        par(mar=c(4,4,1,1))\n",
    "        hist(as.vector(SaveJAGSAllReps$BUGSoutput$sims.list[[tmpidx]]),\n",
    "             xlim=tmpxrange, ylim=tmpyrange, col=\"gray\", border=\"gray\",\n",
    "             breaks=100, main=NULL, xlab=tmpvar, las=1, prob=TRUE)\n",
    "        for (looprep4jags in seq(NumRep)){\n",
    "            lines(density(as.vector(SaveJAGSOneRep[[looprep4jags]]$BUGSoutput$sims.list[[tmpidx]])),\n",
    "                   col=cmap3[looprep4jags], lty=2, main=\"\",xlab=tmpvar,las=1)\n",
    "        }\n",
    "        \n",
    "    }\n",
    "    else {\n",
    "        tmpidx <- which(tmpvar == names(SaveJAGSAllReps$BUGSoutput$sims.list))\n",
    "        for (looplightlevel in seq(ncol(SaveJAGSAllReps$BUGSoutput$sims.list[[tmpidx]]))) {\n",
    "            #detect tmpxrange and tmpyrange for plot\n",
    "            tmpxrange <- range(density(as.vector(SaveJAGSAllReps$BUGSoutput$sims.list[[tmpidx]][,looplightlevel]))$x)\n",
    "            tmpyrange <- range(density(as.vector(SaveJAGSAllReps$BUGSoutput$sims.list[[tmpidx]][,looplightlevel]))$y)\n",
    "            for (looprep4jags in seq(NumRep)) {\n",
    "                tmpxrange2 <- range(density(as.vector(SaveJAGSOneRep[[looprep4jags]]$BUGSoutput$sims.list[[tmpidx]][,looplightlevel]))$x)\n",
    "                tmpyrange2 <- range(density(as.vector(SaveJAGSOneRep[[looprep4jags]]$BUGSoutput$sims.list[[tmpidx]][,looplightlevel]))$y)\n",
    "                #update range\n",
    "                tmpxrange <- range(c(tmpxrange,tmpxrange2))\n",
    "                tmpyrange <- range(c(tmpyrange,tmpyrange2))\n",
    "            }\n",
    "            #density plot\n",
    "            par(mar=c(4,4,1,1))\n",
    "            hist(as.vector(SaveJAGSAllReps$BUGSoutput$sims.list[[tmpidx]][,looplightlevel]),\n",
    "                 xlim=tmpxrange, ylim=tmpyrange, col=\"gray\", border=\"gray\", breaks=100, main=NULL, \n",
    "                 xlab=paste(tmpvar,\"[\",looplightlevel,\"] (PPFD=\",PPFDdetected[looplightlevel],\")\", sep=\"\"), las=1, prob=TRUE)\n",
    "            for (looprep4jags in seq(NumRep)) {\n",
    "                lines(density(as.vector(SaveJAGSOneRep[[looprep4jags]]$BUGSoutput$sims.list[[tmpidx]][,looplightlevel])),\n",
    "                      col=cmap3[looprep4jags], lty=2, main=\"\",xlab=tmpvar,las=1)\n",
    "            }\n",
    "        }\n",
    "    }\n",
    "}\n",
    "par(mar=c(0,0,0,0))\n",
    "plot.new()\n",
    "legend(x=\"center\", ncol=NumRep+1,legend=c(\"All reps\",paste(\"Rep.\",seq(NumRep),sep=\"\")),\n",
    "       fill=c(\"gray\",cmap3))\n",
    "\n",
    "## save plot\n",
    "tmpdisp <- dev.copy(pdf, file.path(BayesOPTFolder,OPTFolderName,\"s3.1-marginal posterior.pdf\"))\n",
    "tmpdisp <- dev.off()"
   ]
  },
  {
   "cell_type": "markdown",
   "metadata": {},
   "source": [
    "## 3.2 Plot bivariate posterior distribution"
   ]
  },
  {
   "cell_type": "code",
   "execution_count": null,
   "metadata": {},
   "outputs": [],
   "source": [
    "# to dev: let user select which parameters to plot the bivariate distribution"
   ]
  },
  {
   "cell_type": "code",
   "execution_count": null,
   "metadata": {
    "scrolled": false
   },
   "outputs": [],
   "source": [
    "for (looprep2plot in seq(NumRep)) {\n",
    "    plot.new()\n",
    "    varname2plot <- c('Vcmax','J','Resp','rm','s','Gstar')\n",
    "    par(mfrow=c(length(varname2plot)-1,length(varname2plot)-1))\n",
    "    options(repr.plot.width=8, repr.plot.height=8)\n",
    "    for (tmpint1 in seq(length(varname2plot)-1)) {\n",
    "        tmpvar1=varname2plot[tmpint1]\n",
    "        tmpidx1 <- which(tmpvar1 == names(SaveJAGSOneRep[[looprep2plot]]$BUGSoutput$sims.list))\n",
    "        for (tmpint2 in seq(tmpint1+1,length(varname2plot))) {\n",
    "            tmpvar2=varname2plot[tmpint2]\n",
    "            tmpidx2 <- which(tmpvar2 == names(SaveJAGSOneRep[[looprep2plot]]$BUGSoutput$sims.list))\n",
    "            if (tmpvar1 != 'J') {\n",
    "                xdata <- SaveJAGSOneRep[[looprep2plot]]$BUGSoutput$sims.list[[tmpidx1]]\n",
    "            }\n",
    "            else {\n",
    "                xdata <- SaveJAGSOneRep[[looprep2plot]]$BUGSoutput$sims.list[[tmpidx1]][,which.max(PPFDdetected)]\n",
    "            }\n",
    "            if (tmpvar2 != 'J') {\n",
    "                ydata <- SaveJAGSOneRep[[looprep2plot]]$BUGSoutput$sims.list[[tmpidx2]]\n",
    "            }\n",
    "            else {\n",
    "                ydata <- SaveJAGSOneRep[[looprep2plot]]$BUGSoutput$sims.list[[tmpidx2]][,which.max(PPFDdetected)]\n",
    "            }\n",
    "            tmp.kde <- kde2d(xdata, ydata, n=50)\n",
    "            #par(mfg=c(tmpint1, tmpint2-1))\n",
    "            #par(mfg=c(length(varname2plot)-tmpint2+1, tmpint1))\n",
    "            par(mfg=c(tmpint2-1, tmpint1), mar=c(4,4,1,1), mgp=c(2.5,0.5,0))\n",
    "            image(tmp.kde,col=viridis(256),xlab=tmpvar1,ylab=tmpvar2,las=1); #contour(tmp.kde, add = T)\n",
    "        }\n",
    "    }\n",
    "    mtext(paste(\"Rep. No.\", looprep2plot, sep=\"\"), side = 3, line = -2, outer = TRUE)\n",
    "    ## save plot\n",
    "    tmpfilename <- paste(\"s3.2-bivariate posterior-rep\",looprep2plot,\".pdf\", sep=\"\")\n",
    "    tmpstr=paste(\"rep\", looprep2plot, sep=\"\")\n",
    "    tmpdisp <- dev.copy(pdf, file.path(BayesOPTFolder,OPTFolderName,tmpstr,tmpfilename))\n",
    "    tmpdisp <- dev.off()\n",
    "}"
   ]
  },
  {
   "cell_type": "markdown",
   "metadata": {},
   "source": [
    "## 3.3 Plot predicted A<sub>n</sub>-C<sub>i</sub> and/or Y(II)-C<sub>i</sub> curves based on joint posterior distribution"
   ]
  },
  {
   "cell_type": "code",
   "execution_count": null,
   "metadata": {},
   "outputs": [],
   "source": [
    "numsamples2plot <- 1000 # number of curves plotted here\n",
    "#There are in total 30,000 pts in the Bayesian sampling \n",
    "#of posterior distribution (10,000 pts per chain and 3 \n",
    "#MCMC chains), but it will be slow in plotting this figure."
   ]
  },
  {
   "cell_type": "code",
   "execution_count": null,
   "metadata": {
    "scrolled": false
   },
   "outputs": [],
   "source": [
    "cmap4 <- rainbow(length(PPFDdetected)-1)\n",
    "tmpcmap4 <- col2rgb(cmap4)/1.5\n",
    "cmap4darker<- rgb(t(tmpcmap4), maxColorValue=255)\n",
    "cmap4transparent <- rainbow(length(PPFDdetected)-1, alpha=0.05)\n",
    "for (looprep2plot in seq(NumRep)) {\n",
    "    #looprep2plot <- 1\n",
    "    options(repr.plot.width = 8, repr.plot.height = 8)\n",
    "    par(mfrow=c(2,2))\n",
    "    \n",
    "    tmpxrange1 <- range(unlist(Obs.Ci)[which(Obs.Q==max(PPFDdetected))])#Ci range under saturating light\n",
    "    lineci1 <- seq(tmpxrange1[1], tmpxrange1[2], length.out=100)\n",
    "    tmpxrange2 <- range(unlist(Obs.Ci)[which(Obs.Q!=max(PPFDdetected))])#Ci range under low light\n",
    "    lineci2 <- seq(tmpxrange2[1], tmpxrange2[2], length.out=100)\n",
    "    \n",
    "    tmpidxPPFD1 <- which.max(PPFDdetected)\n",
    "    samples.post1 <- list()\n",
    "    tmprangeA1 <- list()\n",
    "    tmprangeyii1 <- list()\n",
    "    tmpidxPPFD2 <- which(PPFDdetected!=max(PPFDdetected))\n",
    "    samples.post2 <- list()\n",
    "    tmprangeA2 <- list()\n",
    "    tmprangeyii2 <- list()\n",
    "    \n",
    "    for (looppost in seq(numsamples2plot)) {# plot all 30000 lines will be slow\n",
    "        samples.post1[[looppost]] <- FunFvCBgmOPTAYII2ci(lineci1, \n",
    "                                                         SaveJAGSOneRep[[looprep2plot]]$BUGSoutput$sims.list$Vcmax[looppost],\n",
    "                                                         SaveJAGSOneRep[[looprep2plot]]$BUGSoutput$sims.list$Km[looppost],\n",
    "                                                         SaveJAGSOneRep[[looprep2plot]]$BUGSoutput$sims.list$Gstar[looppost],\n",
    "                                                         SaveJAGSOneRep[[looprep2plot]]$BUGSoutput$sims.list$Resp[looppost],\n",
    "                                                         SaveJAGSOneRep[[looprep2plot]]$BUGSoutput$sims.list$rm[looppost],\n",
    "                                                         max(PPFDdetected), \n",
    "                                                         SaveJAGSOneRep[[looprep2plot]]$BUGSoutput$sims.list$J[looppost, tmpidxPPFD1], \n",
    "                                                         SaveJAGSOneRep[[looprep2plot]]$BUGSoutput$sims.list$s[looppost])\n",
    "        tmprangeA1[[looppost]] <- range(samples.post1[[looppost]]$A)\n",
    "        tmprangeyii1[[looppost]] <- range(samples.post1[[looppost]]$yii)\n",
    "        for (looplightlevel in seq_along(tmpidxPPFD2)) {\n",
    "            tmpidx2d <- looplightlevel+length(tmpidxPPFD2)*(looppost-1)\n",
    "            samples.post2[[tmpidx2d]] <- FunFvCBgmOPTAYII2ci(lineci2, \n",
    "                                                             SaveJAGSOneRep[[looprep2plot]]$BUGSoutput$sims.list$Vcmax[looppost],\n",
    "                                                             SaveJAGSOneRep[[looprep2plot]]$BUGSoutput$sims.list$Km[looppost],\n",
    "                                                             SaveJAGSOneRep[[looprep2plot]]$BUGSoutput$sims.list$Gstar[looppost],\n",
    "                                                             SaveJAGSOneRep[[looprep2plot]]$BUGSoutput$sims.list$Resp[looppost],\n",
    "                                                             SaveJAGSOneRep[[looprep2plot]]$BUGSoutput$sims.list$rm[looppost],\n",
    "                                                             PPFDdetected[tmpidxPPFD2[looplightlevel]], \n",
    "                                                             SaveJAGSOneRep[[looprep2plot]]$BUGSoutput$sims.list$J[looppost, tmpidxPPFD2[looplightlevel]], \n",
    "                                                             SaveJAGSOneRep[[looprep2plot]]$BUGSoutput$sims.list$s[looppost])\n",
    "            tmprangeA2[[tmpidx2d]] <- range(samples.post2[[looppost]]$A)\n",
    "            tmprangeyii2[[tmpidx2d]] <- range(samples.post2[[looppost]]$yii)\n",
    "        }\n",
    "    }\n",
    "    \n",
    "    #A) plot A-Ci under saturating light\n",
    "    par(mar=c(4,4,4,1))\n",
    "    for (looppost in seq(numsamples2plot)) {\n",
    "        if (looppost==1) {\n",
    "            plot(lineci1, samples.post1[[looppost]]$A, col=\"gray\", type=\"l\",\n",
    "                 xlim=range(lineci1), ylim=range(tmprangeA1),\n",
    "                 xlab=\"Ci\", ylab=\"An\", las=1)\n",
    "        } else {\n",
    "            lines(lineci1, samples.post1[[looppost]]$A, col=\"gray\")\n",
    "        }\n",
    "    }\n",
    "    tmpCi=na.omit(unlist(Obs.Ci[looprep2plot,]))#compatible to replications with different pts\n",
    "    tmpQ=na.omit(unlist(Obs.Q[looprep2plot,]))\n",
    "    tmpA=na.omit(unlist(Obs.A[looprep2plot,]))\n",
    "    tmpyii=na.omit(unlist(Obs.yii[looprep2plot,]))\n",
    "    tmpidx1=which(tmpQ==max(PPFDdetected))\n",
    "    points(tmpCi[tmpidx1],tmpA[tmpidx1],xlab=\"Ci\",ylab=\"An\",las=1)\n",
    "    #B) plot Y(II)-Ci under saturating light\n",
    "    par(mar=c(4,4,4,1))\n",
    "    for (looppost in seq(numsamples2plot)) {\n",
    "        if (looppost==1) {\n",
    "            plot(lineci1, samples.post1[[looppost]]$yii, col=\"gray\", type=\"l\",\n",
    "                 xlim=range(lineci1), ylim=range(tmprangeyii1),\n",
    "                 xlab=\"Ci\", ylab=\"Y(II)\", las=1)\n",
    "        } else {\n",
    "            lines(lineci1, samples.post1[[looppost]]$yii, col=\"gray\")\n",
    "        }\n",
    "    }\n",
    "    points(tmpCi[tmpidx1],tmpyii[tmpidx1],xlab=\"Ci\",ylab=\"An\",las=1)\n",
    "    #C) plot A-Ci under low lights\n",
    "    par(mar=c(7,4,1,1))\n",
    "    for (looppost in seq(numsamples2plot)) {\n",
    "        for (looplightlevel in seq_along(tmpidxPPFD2)) {\n",
    "            tmpidx2d <- looplightlevel+length(tmpidxPPFD2)*(looppost-1)\n",
    "            if (looppost==1 && looplightlevel==1) {\n",
    "                plot(lineci2, samples.post2[[tmpidx2d]]$A, col=cmap4transparent[looplightlevel], type=\"l\",\n",
    "                     xlim=range(lineci2), ylim=range(tmprangeA2),\n",
    "                     xlab=\"Ci\", ylab=\"An\", las=1)\n",
    "            } else {\n",
    "                lines(lineci2, samples.post2[[tmpidx2d]]$A, col=cmap4transparent[looplightlevel])\n",
    "            }\n",
    "        }\n",
    "    }\n",
    "    tmpCi=na.omit(unlist(Obs.Ci[looprep2plot,]))#compatible to replications with different pts\n",
    "    tmpQ=na.omit(unlist(Obs.Q[looprep2plot,]))\n",
    "    tmpA=na.omit(unlist(Obs.A[looprep2plot,]))\n",
    "    tmpyii=na.omit(unlist(Obs.yii[looprep2plot,]))\n",
    "    for (looplightlevel in seq_along(tmpidxPPFD2)) {\n",
    "        tmplowlight=PPFDdetected[tmpidxPPFD2[looplightlevel]]\n",
    "        tmpidx2=which(tmpQ==tmplowlight)\n",
    "        points(tmpCi[tmpidx2], tmpA[tmpidx2], pch=looplightlevel+14,\n",
    "               col=cmap4darker[looplightlevel], las=1)\n",
    "    }\n",
    "    legend(\"topleft\",legend = paste(\"rep.\", looprep2plot, \": PPFD \",PPFDdetected[setdiff(seq_along(PPFDdetected),which.max(PPFDdetected))], sep=\"\"), \n",
    "           col=cmap4darker, bty=\"n\", box.lty=0, pch=seq(length(PPFDdetected)-1)+14,\n",
    "           y.intersp=1, yjust=1)\n",
    "    #D) plot Y(II)-Ci under low lights\n",
    "    par(mar=c(7,4,1,1))\n",
    "    for (looppost in seq(numsamples2plot)) {\n",
    "        for (looplightlevel in seq_along(tmpidxPPFD2)) {\n",
    "            tmpidx2d <- looplightlevel+length(tmpidxPPFD2)*(looppost-1)\n",
    "            if (looppost==1 && looplightlevel==1) {\n",
    "                plot(lineci2, samples.post2[[tmpidx2d]]$yii, col=cmap4transparent[looplightlevel], type=\"l\",\n",
    "                     xlim=range(lineci2), ylim=range(tmprangeyii2),\n",
    "                     xlab=\"Ci\", ylab=\"Y(II)\", las=1)\n",
    "            } else {\n",
    "                lines(lineci2, samples.post2[[tmpidx2d]]$yii, col=cmap4transparent[looplightlevel])\n",
    "            }\n",
    "        }\n",
    "    }\n",
    "    for (looplightlevel in seq_along(tmpidxPPFD2)) {\n",
    "        tmplowlight=PPFDdetected[tmpidxPPFD2[looplightlevel]]\n",
    "        tmpidx2=which(tmpQ==tmplowlight)\n",
    "        points(tmpCi[tmpidx2], tmpyii[tmpidx2], pch=looplightlevel+14,\n",
    "               col=cmap4darker[looplightlevel],las=1)\n",
    "    }\n",
    "    title(paste(\"Replication No.\",looprep2plot), outer=TRUE, line=-3)\n",
    "    \n",
    "    ## save plot\n",
    "    tmpfilename <- paste(\"s3.3-posterior Ci response curves-rep\",looprep2plot,\".pdf\", sep=\"\")\n",
    "    tmpstr=paste(\"rep\", looprep2plot, sep=\"\")\n",
    "    tmpdisp <- dev.copy(pdf, file.path(BayesOPTFolder,OPTFolderName,tmpstr,tmpfilename))\n",
    "    tmpdisp <- dev.off()\n",
    "}"
   ]
  },
  {
   "cell_type": "markdown",
   "metadata": {},
   "source": [
    "## 3.4 Save workspace"
   ]
  },
  {
   "cell_type": "code",
   "execution_count": null,
   "metadata": {},
   "outputs": [],
   "source": [
    "## save notebook\n",
    "# File -> Save as..\n",
    "\n",
    "## save results to workspace\n",
    "save.image(file.path(BayesOPTFolder,OPTFolderName,\"myfile.RData\"))\n",
    "\n",
    "## Load saved R workspace, then Step 2 can be skipped\n",
    "#load(\"./output/myfile.RData\")"
   ]
  }
 ],
 "metadata": {
  "kernelspec": {
   "display_name": "R",
   "language": "R",
   "name": "ir"
  },
  "language_info": {
   "codemirror_mode": "r",
   "file_extension": ".r",
   "mimetype": "text/x-r-source",
   "name": "R",
   "pygments_lexer": "r",
   "version": "3.6.1"
  }
 },
 "nbformat": 4,
 "nbformat_minor": 2
}
